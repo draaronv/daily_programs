{
 "cells": [
  {
   "cell_type": "code",
   "execution_count": 2,
   "id": "chicken-lighting",
   "metadata": {},
   "outputs": [
    {
     "name": "stdout",
     "output_type": "stream",
     "text": [
      "1\n",
      "2\n",
      "3\n",
      "[1, 3, 6, 10]\n"
     ]
    }
   ],
   "source": [
    "List=[1,2,3,4]\n",
    "num=[]\n",
    "for i in range(len(List)):\n",
    "    if(i==0):\n",
    "        num.append(List[i])\n",
    "    else:\n",
    "        print(i)\n",
    "        num.append(List[i]+num[i-1])\n",
    "        \n",
    "print(num)"
   ]
  },
  {
   "cell_type": "code",
   "execution_count": null,
   "id": "amber-collar",
   "metadata": {},
   "outputs": [],
   "source": [
    "List=[]\n",
    "nums=[1,2,3,4]\n",
    "def runningSum(self, nums: List[int]) -> List[int]:\n",
    "        for i in range(len(nums)):\n",
    "            if(i==0):\n",
    "                List.append(nums[i])\n",
    "            else:\n",
    "                List.append(nums[i]+List[i-1])    \n",
    "print(runningSum(nums,List))"
   ]
  }
 ],
 "metadata": {
  "kernelspec": {
   "display_name": "Python 3",
   "language": "python",
   "name": "python3"
  },
  "language_info": {
   "codemirror_mode": {
    "name": "ipython",
    "version": 3
   },
   "file_extension": ".py",
   "mimetype": "text/x-python",
   "name": "python",
   "nbconvert_exporter": "python",
   "pygments_lexer": "ipython3",
   "version": "3.6.9"
  }
 },
 "nbformat": 4,
 "nbformat_minor": 5
}
