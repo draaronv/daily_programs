{
 "cells": [
  {
   "cell_type": "code",
   "execution_count": 14,
   "id": "indian-contract",
   "metadata": {},
   "outputs": [
    {
     "ename": "SyntaxError",
     "evalue": "'return' outside function (<ipython-input-14-53e20b0c40d4>, line 15)",
     "output_type": "error",
     "traceback": [
      "\u001b[0;36m  File \u001b[0;32m\"<ipython-input-14-53e20b0c40d4>\"\u001b[0;36m, line \u001b[0;32m15\u001b[0m\n\u001b[0;31m    return true\u001b[0m\n\u001b[0m    ^\u001b[0m\n\u001b[0;31mSyntaxError\u001b[0m\u001b[0;31m:\u001b[0m 'return' outside function\n"
     ]
    }
   ],
   "source": [
    "firstWord=\"acb\"\n",
    "secondWord=\"cba\"\n",
    "targetWord=\"cdb\"\n",
    "thisdict = {\"a\": \"0\",\"b\":\"1\",\"c\":\"2\",\"d\":\"3\",\"e\":\"4\",\"f\":\"5\",\"g\":\"6\",\"h\":\"7\",\"i\":\"8\",\"j\":\"9\"}\n",
    "first=\"\"\n",
    "second=\"\"\n",
    "target=\"\"\n",
    "for i in range(len(firstWord)):\n",
    "    first+=(thisdict.get(firstWord[i]))\n",
    "for i in range(len(secondWord)):\n",
    "    second+=(thisdict.get(secondWord[i]))\n",
    "for i in range(len(targetWord)):\n",
    "    target+=(thisdict.get(targetWord[i]))\n",
    "if(int(first)+int(second)==int(target)):\n",
    "    return true\n",
    "else:\n",
    "    return false"
   ]
  }
 ],
 "metadata": {
  "kernelspec": {
   "display_name": "Python 3",
   "language": "python",
   "name": "python3"
  },
  "language_info": {
   "codemirror_mode": {
    "name": "ipython",
    "version": 3
   },
   "file_extension": ".py",
   "mimetype": "text/x-python",
   "name": "python",
   "nbconvert_exporter": "python",
   "pygments_lexer": "ipython3",
   "version": "3.6.9"
  }
 },
 "nbformat": 4,
 "nbformat_minor": 5
}
